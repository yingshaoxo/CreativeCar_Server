{
 "cells": [
  {
   "cell_type": "code",
   "execution_count": 1,
   "metadata": {},
   "outputs": [],
   "source": [
    "from datetime import datetime\n"
   ]
  },
  {
   "cell_type": "code",
   "execution_count": 2,
   "metadata": {},
   "outputs": [],
   "source": [
    "class Counter:\n",
    "    def __init__(self):\n",
    "        self.dict = {}\n",
    "\n",
    "    def _get_time_difference_in_milliseconds(self, new, old):\n",
    "        diff = (new - old)\n",
    "        diff_in_millisecond = (diff.days * 86400000) + (diff.seconds * 1000) + (diff.microseconds / 1000)\n",
    "        return diff_in_millisecond\n",
    "\n",
    "    def count(self, name, value, time_inverval, chance_of_showing):\n",
    "        date_of_now = datetime.now()\n",
    "\n",
    "        if name in self.dict:\n",
    "            self.dict[name].update({\n",
    "                date_of_now: value\n",
    "            })\n",
    "\n",
    "            out_of_date_items = []\n",
    "            for key in self.dict[name]:\n",
    "                if (self._get_time_difference_in_milliseconds(date_of_now, key) > time_inverval):\n",
    "                    out_of_date_items.append(key)\n",
    "\n",
    "            for key in out_of_date_items:\n",
    "                del self.dict[name][key]\n",
    "\n",
    "            if out_of_date_items != []:\n",
    "                all_values = list(self.dict[name].values())\n",
    "                possibility = all_values.count(value)/len(all_values)\n",
    "\n",
    "                if possibility >= chance_of_showing:\n",
    "                    return 1\n",
    "                else:\n",
    "                    return 0\n",
    "\n",
    "        elif name not in self.dict:\n",
    "            self.dict.update({\n",
    "                name: {date_of_now: value}\n",
    "            })\n",
    "\n",
    "        return 0"
   ]
  },
  {
   "cell_type": "code",
   "execution_count": 3,
   "metadata": {},
   "outputs": [],
   "source": [
    "def get_time_difference_in_milliseconds(new, old):\n",
    "    diff = (new - old)\n",
    "    diff_in_millisecond = (diff.days * 86400000) + (diff.seconds * 1000) + (diff.microseconds / 1000)\n",
    "    return diff_in_millisecond"
   ]
  },
  {
   "cell_type": "code",
   "execution_count": 4,
   "metadata": {},
   "outputs": [],
   "source": [
    "c = Counter()"
   ]
  },
  {
   "cell_type": "code",
   "execution_count": 29,
   "metadata": {},
   "outputs": [
    {
     "name": "stdout",
     "output_type": "stream",
     "text": [
      "0.9511642949547219\n"
     ]
    }
   ],
   "source": [
    "all = 0\n",
    "yes = 0\n",
    "\n",
    "max_time = 1000\n",
    "\n",
    "start = datetime.now()\n",
    "while 1:\n",
    "    if (get_time_difference_in_milliseconds(datetime.now(), start)) >= max_time:\n",
    "        break\n",
    "        \n",
    "    value  = c.count(name = \"a\", value = 1, time_inverval=10, chance_of_showing=0.3)\n",
    "    c.count(name = \"a\", value = 2, time_inverval=10, chance_of_showing=0.5)\n",
    "    c.count(name = \"a\", value = 3, time_inverval=10, chance_of_showing=0.5)\n",
    "    \n",
    "    all += 1\n",
    "    if (value == 1):\n",
    "        yes += 1\n",
    "    else:\n",
    "        pass\n",
    "    \n",
    "print(yes/all)"
   ]
  }
 ],
 "metadata": {
  "kernelspec": {
   "display_name": "Python 3",
   "language": "python",
   "name": "python3"
  },
  "language_info": {
   "codemirror_mode": {
    "name": "ipython",
    "version": 3
   },
   "file_extension": ".py",
   "mimetype": "text/x-python",
   "name": "python",
   "nbconvert_exporter": "python",
   "pygments_lexer": "ipython3",
   "version": "3.7.3"
  }
 },
 "nbformat": 4,
 "nbformat_minor": 2
}
